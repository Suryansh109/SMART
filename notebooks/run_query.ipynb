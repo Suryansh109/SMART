{
 "cells": [
  {
   "cell_type": "code",
   "execution_count": 1,
   "metadata": {},
   "outputs": [],
   "source": [
    "#I am setting this environment to practice and validate dataset and build something out of it, hopefully!!\n",
    "#and for easier analaysis, ofcourse, VSCode are not Data Engineers friendly, HAHAHA!"
   ]
  },
  {
   "cell_type": "code",
   "execution_count": 74,
   "metadata": {},
   "outputs": [],
   "source": [
    "import pandas as pd\n",
    "import os\n",
    "import datetime\n"
   ]
  },
  {
   "cell_type": "code",
   "execution_count": 80,
   "metadata": {},
   "outputs": [
    {
     "data": {
      "text/html": [
       "<div>\n",
       "<style scoped>\n",
       "    .dataframe tbody tr th:only-of-type {\n",
       "        vertical-align: middle;\n",
       "    }\n",
       "\n",
       "    .dataframe tbody tr th {\n",
       "        vertical-align: top;\n",
       "    }\n",
       "\n",
       "    .dataframe thead th {\n",
       "        text-align: right;\n",
       "    }\n",
       "</style>\n",
       "<table border=\"1\" class=\"dataframe\">\n",
       "  <thead>\n",
       "    <tr style=\"text-align: right;\">\n",
       "      <th></th>\n",
       "      <th>Date</th>\n",
       "      <th>Symbol</th>\n",
       "      <th>ClientName</th>\n",
       "      <th>Transaction</th>\n",
       "      <th>QuantityTraded</th>\n",
       "      <th>MeanWghtPrice</th>\n",
       "    </tr>\n",
       "  </thead>\n",
       "  <tbody>\n",
       "    <tr>\n",
       "      <th>0</th>\n",
       "      <td>25-AUG-2023</td>\n",
       "      <td>ALPA</td>\n",
       "      <td>GRAVITON RESEARCH CAPITAL LLP</td>\n",
       "      <td>BUY</td>\n",
       "      <td>133673</td>\n",
       "      <td>81.39</td>\n",
       "    </tr>\n",
       "    <tr>\n",
       "      <th>1</th>\n",
       "      <td>25-AUG-2023</td>\n",
       "      <td>AMBER</td>\n",
       "      <td>GOVERNMENT OF SINGAPORE</td>\n",
       "      <td>BUY</td>\n",
       "      <td>725239</td>\n",
       "      <td>2800.00</td>\n",
       "    </tr>\n",
       "    <tr>\n",
       "      <th>2</th>\n",
       "      <td>25-AUG-2023</td>\n",
       "      <td>ARIES</td>\n",
       "      <td>GRAVITON RESEARCH CAPITAL LLP</td>\n",
       "      <td>BUY</td>\n",
       "      <td>89917</td>\n",
       "      <td>193.17</td>\n",
       "    </tr>\n",
       "    <tr>\n",
       "      <th>3</th>\n",
       "      <td>25-AUG-2023</td>\n",
       "      <td>ASTRAMICRO</td>\n",
       "      <td>GRAVITON RESEARCH CAPITAL LLP</td>\n",
       "      <td>BUY</td>\n",
       "      <td>487675</td>\n",
       "      <td>386.36</td>\n",
       "    </tr>\n",
       "    <tr>\n",
       "      <th>4</th>\n",
       "      <td>25-AUG-2023</td>\n",
       "      <td>ATULAUTO</td>\n",
       "      <td>GRAVITON RESEARCH CAPITAL LLP</td>\n",
       "      <td>BUY</td>\n",
       "      <td>390565</td>\n",
       "      <td>457.74</td>\n",
       "    </tr>\n",
       "  </tbody>\n",
       "</table>\n",
       "</div>"
      ],
      "text/plain": [
       "          Date      Symbol                     ClientName Transaction  \\\n",
       "0  25-AUG-2023        ALPA  GRAVITON RESEARCH CAPITAL LLP         BUY   \n",
       "1  25-AUG-2023       AMBER        GOVERNMENT OF SINGAPORE         BUY   \n",
       "2  25-AUG-2023       ARIES  GRAVITON RESEARCH CAPITAL LLP         BUY   \n",
       "3  25-AUG-2023  ASTRAMICRO  GRAVITON RESEARCH CAPITAL LLP         BUY   \n",
       "4  25-AUG-2023    ATULAUTO  GRAVITON RESEARCH CAPITAL LLP         BUY   \n",
       "\n",
       "   QuantityTraded  MeanWghtPrice  \n",
       "0          133673          81.39  \n",
       "1          725239        2800.00  \n",
       "2           89917         193.17  \n",
       "3          487675         386.36  \n",
       "4          390565         457.74  "
      ]
     },
     "execution_count": 80,
     "metadata": {},
     "output_type": "execute_result"
    }
   ],
   "source": [
    "#bulk Df is basically block deals happend by the client.\n",
    "#These clients can be FII and DII. We will build something to identfy that later on.\n",
    "#for now, I am trying to consolidate the client regime, how much of Indian stock they bought.\n",
    "\n",
    "bulk_df=pd.read_csv('../staging/bulk.csv')\n",
    "\n",
    "#Schema changes: I am changing the schema as it is not good way to keep spaces in between.\n",
    "#let's create a standard of camel casing i.e Quantity Traded -> QuantityTraded.\n",
    "new_schema={'Client Name':'ClientName','Quantity Traded':'QuantityTraded', 'Trade Price / Wght. Avg. Price':'MeanWghtPrice', 'Buy/Sell':'Transaction'}\n",
    "bulk_df_cleaned=bulk_df.rename(columns=new_schema).drop(columns=['Security Name','Remarks']).drop_duplicates()\n",
    "bulk_df_cleaned.head()"
   ]
  },
  {
   "cell_type": "code",
   "execution_count": 88,
   "metadata": {},
   "outputs": [
    {
     "name": "stderr",
     "output_type": "stream",
     "text": [
      "/tmp/ipykernel_5553/3141007817.py:7: UserWarning: Could not infer format, so each element will be parsed individually, falling back to `dateutil`. To ensure parsing is consistent and as-expected, please specify a format.\n",
      "  tdf['Date']=pd.to_datetime(tdf.Date).dt.strftime('%Y-%m-%d')\n"
     ]
    }
   ],
   "source": [
    "#now that we have some cleaning done, let check the regime of Client.\n",
    "#Regime of Client: Varied Stocks that single client has bought.\n",
    "#PS: you will see so many reassignments, coz I hate using more variables.\n",
    "ClientPortfolio=bulk_df_cleaned\n",
    "tdf=ClientPortfolio.groupby(['ClientName','Date'])[['Symbol']].count()\n",
    "tdf=tdf.rename(columns={'Symbol':'NoOfStocksBought'}).reset_index()\n",
    "tdf['Date']=pd.to_datetime(tdf.Date).dt.strftime('%Y-%m-%d')\n",
    "tdf=tdf.sort_values(by=['NoOfStocksBought'],ascending=False)\n",
    "tdf.to_csv(\"../data/ClientPortFolio.csv\")\n",
    "\n",
    "#I know this will only give us the Client who bought most number of stocks in a day, which it bought that is still with bulk_df_cleaned\n",
    "#I have alogorithm to store all the stocks bought in fixed lenght, will implement it later on. \n",
    "# Just for guess , it has to do with bit map. HAHA!"
   ]
  },
  {
   "cell_type": "code",
   "execution_count": null,
   "metadata": {},
   "outputs": [],
   "source": []
  }
 ],
 "metadata": {
  "kernelspec": {
   "display_name": "Python 3",
   "language": "python",
   "name": "python3"
  },
  "language_info": {
   "codemirror_mode": {
    "name": "ipython",
    "version": 3
   },
   "file_extension": ".py",
   "mimetype": "text/x-python",
   "name": "python",
   "nbconvert_exporter": "python",
   "pygments_lexer": "ipython3",
   "version": "3.10.8"
  },
  "orig_nbformat": 4
 },
 "nbformat": 4,
 "nbformat_minor": 2
}
